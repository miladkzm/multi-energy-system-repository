{
 "cells": [
  {
   "cell_type": "markdown",
   "source": [
    "Importing the classes inside the data_interface.ipynb"
   ],
   "metadata": {
    "collapsed": false
   },
   "id": "29a771cc4614561f"
  },
  {
   "cell_type": "code",
   "outputs": [],
   "source": [
    "from hems.data_interface import HouseholdData\n",
    "%run data_interface.ipynb"
   ],
   "metadata": {
    "collapsed": false,
    "ExecuteTime": {
     "end_time": "2024-03-01T13:44:31.505655100Z",
     "start_time": "2024-03-01T13:44:30.433919Z"
    }
   },
   "id": "45911188f198a080",
   "execution_count": 1
  },
  {
   "cell_type": "markdown",
   "source": [
    "Import the necessary libraries"
   ],
   "metadata": {
    "collapsed": false
   },
   "id": "56203bd5e0bc3886"
  },
  {
   "cell_type": "code",
   "outputs": [],
   "source": [
    "import inspect\n",
    "import sys\n",
    "import typing\n",
    "from pyomo.environ import *\n",
    "from pyomo.util.infeasible import log_infeasible_constraints\n",
    "import logging\n",
    "from pyaugmecon import PyAugmecon"
   ],
   "metadata": {
    "collapsed": false,
    "ExecuteTime": {
     "end_time": "2024-03-01T13:45:29.850947800Z",
     "start_time": "2024-03-01T13:45:29.835446300Z"
    }
   },
   "id": "8409c825bb3bbac8",
   "execution_count": 3
  },
  {
   "cell_type": "markdown",
   "source": [
    "The HouseModel including all the mathematical formulations are going to be included here"
   ],
   "metadata": {
    "collapsed": false
   },
   "id": "8eeaad9280d8611d"
  },
  {
   "cell_type": "markdown",
   "source": [
    "The class is initialized by the expected attributes and their type. This is a good practice to make sure that the attributes are constructed according to the type specified. Also, later on it will help us with smoother the code completion and suggestion."
   ],
   "metadata": {
    "collapsed": false
   },
   "id": "95a6492914482c2e"
  },
  {
   "cell_type": "code",
   "outputs": [],
   "source": [
    "class HouseModel(object):\n",
    "    model: ConcreteModel\n",
    "    app_type: str = None\n",
    "    household_data: HouseholdData\n",
    "    domestic_electric_power_balance_element_list: list\n",
    "    electric_export_power_balance_element_list: list\n",
    "    domestic_heating_power_balance_element_list: list\n",
    "    domestic_natural_gas_balance_element_list: list\n",
    "    domestic_hot_water_heating_power_balance_element_list: list"
   ],
   "metadata": {
    "collapsed": false
   },
   "id": "c4f5313a0a46f0c5"
  },
  {
   "cell_type": "markdown",
   "source": [
    "Initializing the class with the input data."
   ],
   "metadata": {
    "collapsed": false
   },
   "id": "6f2c080f3ab21a23"
  },
  {
   "cell_type": "code",
   "outputs": [],
   "source": [
    "    def __init__(self, household_data: HouseholdData):\n",
    "        self.household_data = household_data\n",
    "        self.timesteps = household_data.timesteps\n",
    "        self.timestep_interval = household_data.timesteps_freq\n",
    "        self.natural_gas_lower_heating_value = 10.16  # [kWh/m3]\n",
    "        self.model = ConcreteModel()"
   ],
   "metadata": {
    "collapsed": false
   },
   "id": "aef485f1e00a311f"
  },
  {
   "cell_type": "markdown",
   "source": [
    "The optimization model sets and variables are going to be initialized and defined via this method.\n",
    "The consumption technologies are defined as non-positive reals while the productions are defined as non-negative reals.\n",
    "\n",
    " \n",
    "\\begin{table}\n",
    "\\begin{tabular}{l|l}\n",
    "\\multicolumn{2}{l}{\\textbf{Sets}}\\\\\n",
    "$t \\in \\mathcal{T}$         & Sets of time periods \\\\\n",
    "\\multicolumn{2}{l}{\\textbf{Parameters}}\\\\\n",
    "$\\Delta t$                  & Time-step length \\\\\n",
    "$\\lambda_t^{x,b/s}$         & Buying/ selling energy price [euros/kWh] \\\\\n",
    "$\\lambda_t^{p,b/s}$         & Buying/ selling electric energy price [euros/kWh] \\\\\n",
    "$\\lambda_t^{h,b/s}$         & Buying/ selling heating energy price [euros/kWh] \\\\\n",
    "$\\lambda_t^{g,b}$           & Buying natural gas price [euros/kWh] \\\\\n",
    "$\\xi$                       & Energy carbon intensity [kgCO2/kWh] \\\\\n",
    "$LHV_g$                     & Lower heating value of gas [kWh/m\\textsuperscript{3}] \\\\\n",
    "$p_t^{NFEL}$                & Non-flexible electric power demand [kW] \\\\\n",
    "$h_t^{DHW}$                 & Domestic hot water heating demand [kW] \\\\\n",
    "$h_t^{NNGD}$                & Non-flexible natural gas demand [m\\textsuperscript{3}] \\\\\n",
    "\\multicolumn{2}{l}{\\textbf{Variables}}\\\\\n",
    "$g_t^{ext,b}$               & Gas bought from the external network [m\\textsuperscript{3}]\\\\\n",
    "$p_t^{ext,b}$               & Electric power bought (imported) from the external network [kW]\\\\\n",
    "$p_t^{ext,s}$               & Electric power sold (exported) to the external network [kW]\\\\\n",
    "$h_t^{ext,b}$               & Heating power bought (imported) from the external network [kW]\\\\\n",
    "$h_t^{ext,s}$               & Heating power sold (exported) to the external network [kW]\\\\\n",
    "\\end{tabular}\n",
    "\\end{table}"
   ],
   "metadata": {
    "collapsed": false
   },
   "id": "2ad5e3e4d71b4feb"
  },
  {
   "cell_type": "code",
   "outputs": [],
   "source": [
    "    def initialize_model(self):\n",
    "        self.model.delta_t = self.household_data.delta_t\n",
    "        self.model.timesteps = Set(ordered=True, initialize=self.household_data.timesteps)\n",
    "        self.model.timesteps_not0 = self.model.timesteps - [self.model.timesteps.first()]\n",
    "\n",
    "        # Prices\n",
    "        self.model.power_buy_price = Param(self.model.timesteps, within=Reals,\n",
    "                                           initialize=self.household_data.electricity_price)\n",
    "        self.model.power_sell_price = Param(self.model.timesteps, within=Reals,\n",
    "                                            initialize=0.7 * self.household_data.electricity_price)\n",
    "        self.model.gas_buy_price = Param(self.model.timesteps, within=Reals,\n",
    "                                         initialize=self.household_data.gas_price)\n",
    "\n",
    "        # CO2 intenisity factor:\n",
    "        self.model.co2_intensity = Param(within=NonNegativeReals, initialize=0.15)\n",
    "\n",
    "        # LHV of nautal gas\n",
    "        self.model.gas_lhv = Param(within=NonNegativeReals, initialize=self.natural_gas_lower_heating_value)\n",
    "\n",
    "        # Import and export power variables define\n",
    "        self.model.power_imported = Var(self.model.timesteps, within=NonNegativeReals, initialize=0)\n",
    "        self.model.power_exported = Var(self.model.timesteps, within=NonPositiveReals, initialize=0)\n",
    "        self.model.natural_gas_import = Var(self.model.timesteps, within=NonNegativeReals, initialize=0)\n",
    "\n",
    "        # Loads including electricity, heating and gas\n",
    "        # Electric load:\n",
    "        self.model.inflexible_power_demand = Param(self.model.timesteps, within=NonPositiveReals,\n",
    "                                                   initialize=-1 * self.household_data.inflexible_electricity_demand)\n",
    "        # Heating load\n",
    "        self.model.domestic_hot_water_heating_demand = Param(\n",
    "            self.model.timesteps, within=NonPositiveReals,\n",
    "            initialize=-1 * self.household_data.inflexible_heat_demand\n",
    "        )\n",
    "        # Natural gas load\n",
    "        self.model.inflexible_gas_demand = Param(\n",
    "            self.model.timesteps, within=NonPositiveReals,\n",
    "            initialize=-1 * self.household_data.inflexible_gas_demand\n",
    "        )\n"
   ],
   "metadata": {
    "collapsed": false
   },
   "id": "b4bfd94544c1b8cb"
  },
  {
   "cell_type": "markdown",
   "source": [
    "Every power balance equation in the model is going to be defined as a list. Later on the elements of the lists, which represent the energy consumption/production of an asset and the network import/export, are going to be summed up to form an energy balance equation. Accordingly:\n",
    "\n",
    "he electric power balance can be expressed as in \\cref{eq:power_balance}: \n",
    "\\begin{subequations}\n",
    "\\begin{flalign}\n",
    "     & p_t^{ext,b} + p_t^{EV,u} + p_t^{BESS,u} + p_t^{PV,u} + p_t^{CHP,u} + \\sum \\limits_{d \\in \\mathcal{D}} p_{d,t}^{TSEL} + p_t^{BESS,ch}+ p_t^{HP} + p_t^{NFEL} = 0 && \\hspace{-0.5cm} \\forall{t \\in \\mathcal{T}}\\\\\n",
    "     & p_t^{ext,s} + p_t^{EV,s} + p_t^{BESS,s} + p_t^{PV,s} + p_t^{CHP,s} = 0 && \\hspace{-0.5cm}\\forall{t \\in \\mathcal{T}}\\\\\n",
    "     & 0\\leq p_t^{ext,b} \\leq u_t^{ext,p} \\overline{p^{ext,b}} &&\\hspace{-0.5cm} \\forall{t \\in \\mathcal{T}}\\\\\n",
    "     & 0\\leq p_t^{ext,s} \\leq \\left(1-u_t^{ext,p}\\right) \\overline{p^{ext,s}} && \\hspace{-0.5cm}\\forall{t \\in \\mathcal{T}}\n",
    "\\end{flalign}\n",
    "\\end{subequations}\n",
    "\n",
    "Since the bidirectional energy exchange is also possible for the heating carrier, the heat energy balance can be developed similarly in \\cref{eq:heat_balance}:\n",
    "\\begin{subequations}\n",
    "\\begin{flalign}\n",
    "     & h_t^{ext,b} + h_t^{CHP,u} + h_t^{HP,u} + h_t^{HESS,u} + h_t^{ST,u} + h_t^{HESS,ch} + h_t^{HWD} + h_t^{HHS} = 0 && \\hspace{-0.5cm} \\forall{t \\in \\mathcal{T}}\\\\\n",
    "     & h_t^{ext,s} + h_t^{CHP,s} + h_t^{HP,s} + h_t^{ST,s} + h_t^{HESS,s} = 0 && \\hspace{-0.5cm} \\forall{t \\in \\mathcal{T}}\\\\\n",
    "     & 0\\leq h_t^{ext,b} \\leq u_t^{ext,h} \\overline{h^{ext,b}} && \\hspace{-0.5cm}\\forall{t \\in \\mathcal{T}}\\\\\n",
    "     & 0\\leq h_t^{ext,s} \\leq \\left(1-u_t^{ext,h}\\right) \\overline{h^{ext,s}} && \\hspace{-0.5cm}\\forall{t \\in \\mathcal{T}}\n",
    "\\end{flalign}\n",
    "\\end{subequations}\n",
    "\n",
    "The assumption is that no gas can be sold to the external gas network. Therefore, the gas balance can be written as:\n",
    "\\begin{subequations}\n",
    "\\begin{flalign}\n",
    "     & g_t^{ext,b} + g_t^{CHP} + g_t^{NGD} && \\forall{t \\in \\mathcal{T}}\\\\\n",
    "     & 0\\leq g_t^{ext,b} \\leq \\overline{g^{ext,b}} && \\forall{t \\in \\mathcal{T}}\n",
    "\\end{flalign}\n",
    "\\end{subequations}"
   ],
   "metadata": {
    "collapsed": false
   },
   "id": "2d6a82d1e6db6c39"
  },
  {
   "cell_type": "code",
   "outputs": [],
   "source": [
    "# Power balance list of equations\n",
    "        self.domestic_electric_power_balance_element_list = list()\n",
    "        self.domestic_electric_power_balance_element_list.append(self.model.power_imported)\n",
    "        self.domestic_electric_power_balance_element_list.append(self.model.inflexible_power_demand)\n",
    "\n",
    "        self.electric_export_power_balance_element_list = list()\n",
    "        self.electric_export_power_balance_element_list.append(self.model.power_exported)\n",
    "\n",
    "        self.domestic_heating_power_balance_element_list = list()\n",
    "\n",
    "        self.domestic_hot_water_heating_power_balance_element_list = list()\n",
    "        self.domestic_hot_water_heating_power_balance_element_list.append(self.model.domestic_hot_water_heating_demand)\n",
    "\n",
    "        self.domestic_natural_gas_balance_element_list = list()\n",
    "        self.domestic_natural_gas_balance_element_list.append(self.model.inflexible_gas_demand)\n",
    "        self.domestic_natural_gas_balance_element_list.append(self.model.natural_gas_import)"
   ],
   "metadata": {
    "collapsed": false
   },
   "id": "41d9d164106118c4"
  },
  {
   "cell_type": "markdown",
   "source": [
    "The actual power balance equations will be created via the following method. Accordingly, "
   ],
   "metadata": {
    "collapsed": false
   },
   "id": "c6f3c9d03cab8047"
  },
  {
   "cell_type": "code",
   "outputs": [],
   "source": [
    "    def construct_energy_balance_constraint(self):\n",
    "        def electric_domestic_power_balance_expr_rule(model, t):\n",
    "            return sum(element[t] for element in self.domestic_electric_power_balance_element_list) == 0\n",
    "\n",
    "        self.model.electric_domestic_power_balance_constraint = Constraint(\n",
    "            self.model.timesteps,\n",
    "            rule=electric_domestic_power_balance_expr_rule\n",
    "        )\n",
    "\n",
    "        def electric_export_power_balance_expr_rule(model, t):\n",
    "            return sum(element[t] for element in self.electric_export_power_balance_element_list) == 0\n",
    "\n",
    "        self.model.electric_export_power_balance_constraint = Constraint(\n",
    "            self.model.timesteps,\n",
    "            rule=electric_export_power_balance_expr_rule\n",
    "        )\n",
    "\n",
    "        def heating_domestic_hot_water_power_balance_expr_rule(model, t):\n",
    "            return sum(element[t] for element in self.domestic_hot_water_heating_power_balance_element_list) == 0\n",
    "\n",
    "        self.model.heating_domestic_hot_water_power_balance_constraint = Constraint(\n",
    "            self.model.timesteps,\n",
    "            rule=heating_domestic_hot_water_power_balance_expr_rule\n",
    "        )\n",
    "\n",
    "        def heating_domestic_power_balance_expr_rule(model, t):\n",
    "            return sum(element[t] for element in self.domestic_heating_power_balance_element_list) == 0\n",
    "\n",
    "        self.model.heating_domestic_power_balance_constraint = Constraint(\n",
    "            self.model.timesteps,\n",
    "            rule=heating_domestic_power_balance_expr_rule\n",
    "        )\n",
    "\n",
    "        def domestic_natural_gas_balance_expr_rule(model, t):\n",
    "            return sum(element[t] for element in self.domestic_natural_gas_balance_element_list) == 0\n",
    "\n",
    "        self.model.domestic_natural_gas_balance_constraint = Constraint(\n",
    "            self.model.timesteps,\n",
    "            rule=domestic_natural_gas_balance_expr_rule\n",
    "        )"
   ],
   "metadata": {
    "collapsed": false
   },
   "id": "28d235b049653b58"
  },
  {
   "cell_type": "markdown",
   "source": [
    "The single objective function given below can be defined via the following method.\n",
    "\\begin{subequations} \n",
    "\\begin{flalign}\n",
    "    & \\min Cost = \\sum\\limits_{t \\in {\\mathcal{T}}} \\left \\{ \\lambda _t^{p,b}p_t^{ext,b} - \\lambda_t^{p,s}p_t^{ext,s} + \\lambda _t^{h,b}h_t^{ext,b}  - \\lambda_t^{h,s}h_t^{ext,s} + \\lambda _t^{g,b}g_t^{ext,b} \\right\\} \\Delta t&& \\\\\n",
    "\\end{flalign}\n",
    "\\end{subequations}\n"
   ],
   "metadata": {
    "collapsed": false
   },
   "id": "eb4613645de84ca9"
  },
  {
   "cell_type": "code",
   "outputs": [],
   "source": [
    "    def construct_single_objective_function(self):\n",
    "        def cost_min_rule(model):\n",
    "            return sum(\n",
    "                model.power_buy_price[t] * model.power_imported[t] - model.power_sell_price[t] * model.power_exported[t]\n",
    "                + model.gas_buy_price[t] * model.natural_gas_import[t]\n",
    "                for t in model.timesteps\n",
    "            ) * model.delta_t\n",
    "\n",
    "        self.model.OF = Objective(expr=cost_min_rule, sense=minimize)"
   ],
   "metadata": {
    "collapsed": false,
    "ExecuteTime": {
     "end_time": "2024-03-01T15:26:45.190052400Z",
     "start_time": "2024-03-01T15:26:45.181528900Z"
    }
   },
   "id": "7a8089a8afb80b1c",
   "execution_count": 4
  },
  {
   "cell_type": "markdown",
   "source": [
    "The multiple objectives can be defined as:\n",
    "\\begin{subequations} \n",
    "\\begin{flalign}\n",
    "    & \\min Cost = \\sum\\limits_{t \\in {\\mathcal{T}}} \\left \\{ \\lambda _t^{p,b}p_t^{ext,b} - \\lambda_t^{p,s}p_t^{ext,s} + \\lambda _t^{h,b}h_t^{ext,b}  - \\lambda_t^{h,s}h_t^{ext,s} + \\lambda _t^{g,b}g_t^{ext,b} \\right\\} \\Delta t&& \\\\\n",
    "    & \\min CO2 = \\sum\\limits_{t \\in {\\mathcal{T}}} \\xi \\left\\{ p_t^{ext,b} + h_t^{ext,b} + g_t^{ext,b}LHV_g\\right\\} \\Delta t\\\\\n",
    "\\end{flalign}\n",
    "\\end{subequations}"
   ],
   "metadata": {
    "collapsed": false
   },
   "id": "b8972463b796c51c"
  },
  {
   "cell_type": "code",
   "outputs": [],
   "source": [
    "    def construct_multi_objective_functions(self):\n",
    "        def minimize_electricity_cost_rule(model):\n",
    "            return sum(\n",
    "                model.power_buy_price[t] * model.power_imported[t] - model.power_sell_price[t] * model.power_exported[t]\n",
    "                for t in model.timesteps\n",
    "            ) * model.delta_t\n",
    "\n",
    "        def min_co2_rule(model):\n",
    "            return model.co2_intensity * model.delta_t * sum(\n",
    "                model.power_imported[t] + model.natural_gas_import[t] * model.gas_lhv for t in model.timesteps\n",
    "            )\n",
    "\n",
    "        def minimize_gas_cost(model):\n",
    "            return sum(model.gas_buy_price[t] * model.natural_gas_import[t] for t in model.timesteps) * model.delta_t\n",
    "\n",
    "        self.model.obj_list = ObjectiveList()\n",
    "        self.model.obj_list.add(expr=minimize_electricity_cost_rule(self.model), sense=minimize)\n",
    "        self.model.obj_list.add(expr=minimize_gas_cost(self.model), sense=minimize)"
   ],
   "metadata": {
    "collapsed": false
   },
   "id": "b623d641bdbcacf3"
  },
  {
   "cell_type": "markdown",
   "source": [
    "Now, the appliances model are going to be constructed in a new class defined below. Accordingly, the AppModel class takes HouseHold object and HouseModel object to initialize the class and proceed with constructing the appliance model. Therefore, this a general class that every single appliance is going to inherit from it for initialization."
   ],
   "metadata": {
    "collapsed": false
   },
   "id": "60b80ccaea6979c4"
  },
  {
   "cell_type": "code",
   "outputs": [],
   "source": [
    "class AppModel(object):\n",
    "    household_data: HouseholdData\n",
    "    house_model: HouseModel\n",
    "    app_type: str = None\n",
    "\n",
    "    def __init__(self, household_data: HouseholdData, house_model: HouseModel):\n",
    "        self.household_data = household_data\n",
    "        self.house_model = house_model\n",
    "        self.natural_gas_lower_heating_value = 10.16  # [kWh/m3]"
   ],
   "metadata": {
    "collapsed": false
   },
   "id": "473b6a7ba5e1d582"
  },
  {
   "cell_type": "markdown",
   "source": [
    "The PV model class is defined according to the following mathematical model:\n",
    "\\begin{subequations}\n",
    "\\begin{flalign} \n",
    "    & p_t^{PV} = A^{PV} I_t \\eta^{PV} && \\forall{t \\in \\mathcal{T}}\\\\\n",
    "    & p_t^{PV} = p_t^{PV,u} + p_t^{PV,s} && \\forall {t \\in \\mathcal{T}}\\\\\n",
    "\\end{flalign}\n",
    "\\end{subequations}"
   ],
   "metadata": {
    "collapsed": false
   },
   "id": "62203dd9e8cd12eb"
  },
  {
   "cell_type": "code",
   "outputs": [],
   "source": [
    "class PhotovoltaicSystem(AppModel):\n",
    "    app_type = \"pv_generator\"\n",
    "\n",
    "    def __init__(self, household_data: HouseholdData, house_model: HouseModel):\n",
    "        super().__init__(household_data, house_model)\n",
    "\n",
    "        self.house_model.model.pv_power_generation = Param(\n",
    "            self.house_model.model.timesteps, within=NonNegativeReals,\n",
    "            initialize=(self.household_data.pv_generator['area'] * self.household_data.pv_generator['efficiency']\n",
    "                        * self.household_data.pv_generator['performance_ratio']\n",
    "                        * self.household_data.solar_irradiance / 1000)\n",
    "        )\n",
    "\n",
    "        self.house_model.model.pv_power_domestic_use = Var(\n",
    "            self.house_model.model.timesteps, within=NonNegativeReals, initialize=0\n",
    "        )  # PV power used in the household\n",
    "        self.house_model.model.pv_power_export = Var(\n",
    "            self.house_model.model.timesteps, within=NonNegativeReals, initialize=0\n",
    "        )  # PV power sold\n",
    "\n",
    "        def pv_balance_rule(model, t):\n",
    "            return model.pv_power_domestic_use[t] + model.pv_power_export[t] == model.pv_power_generation[t]\n",
    "\n",
    "        self.house_model.model.pv_balance_constraint = Constraint(self.house_model.model.timesteps,\n",
    "                                                                  rule=pv_balance_rule)\n",
    "\n",
    "        self.house_model.domestic_electric_power_balance_element_list.append(\n",
    "            self.house_model.model.pv_power_domestic_use)\n",
    "        self.house_model.electric_export_power_balance_element_list.append(self.house_model.model.pv_power_export)"
   ],
   "metadata": {
    "collapsed": false
   },
   "id": "530e004aa0df421b"
  },
  {
   "cell_type": "markdown",
   "source": [
    "#TODO: You should add ST model similarly"
   ],
   "metadata": {
    "collapsed": false
   },
   "id": "8ca0000e67551f72"
  },
  {
   "cell_type": "code",
   "outputs": [],
   "source": [
    "# The Solar Thermal model class goers here"
   ],
   "metadata": {
    "collapsed": false
   },
   "id": "acfb35fd9ba8a052"
  },
  {
   "cell_type": "markdown",
   "source": [
    "The BESS model is defined as:\n",
    "\\begin{subequations}\n",
    "\\begin{flalign} \n",
    "    & p_t^{PV} = A^{PV} I_t \\eta^{PV} && \\forall{t \\in \\mathcal{T}}\\\\\n",
    "    & p_t^{PV} = p_t^{PV,u} + p_t^{PV,s} && \\forall {t \\in \\mathcal{T}}\\\\\n",
    "    & h_t^{ST} = A^{ST} I_t \\eta^{ST} && \\forall{t \\in \\mathcal{T}}\\\\\n",
    "    & h_t^{ST} = h_t^{ST,u} + h_t^{ST,s} && \\forall {t \\in \\mathcal{T}} \n",
    "\\end{flalign}\n",
    "\\end{subequations}"
   ],
   "metadata": {
    "collapsed": false
   },
   "id": "5f0d6ccd589a6fe0"
  },
  {
   "cell_type": "code",
   "outputs": [],
   "source": [
    "class Storage(AppModel):\n",
    "    app_type = \"energy_storage_system\"\n",
    "\n",
    "    def __init__(self, household_data: HouseholdData, house_model: HouseModel):\n",
    "        # ESS parameters\n",
    "        super().__init__(household_data, house_model)\n",
    "\n",
    "        self.house_model.model.storage_charging_rate = Param(\n",
    "            within=NonNegativeReals, initialize=self.household_data.energy_storage_system['charging_rate']\n",
    "        )  # [kW] rated charging power\n",
    "        self.house_model.model.storage_discharging_rate = Param(\n",
    "            within=NonNegativeReals, initialize=self.household_data.energy_storage_system['discharging_rate']\n",
    "        )  # [kW] rated discharging power\n",
    "        self.house_model.model.storage_minimum_soe = Param(\n",
    "            within=NonNegativeReals, initialize=self.household_data.energy_storage_system['min_soe']\n",
    "        )  # [kWh] min state-of-energy\n",
    "        self.house_model.model.storage_maximum_soe = Param(\n",
    "            within=NonNegativeReals, initialize=self.household_data.energy_storage_system['max_soe']\n",
    "        )  # [kWh] max state-of-energy\n",
    "        self.house_model.model.ess_soe_ini = Param(\n",
    "            within=NonNegativeReals, initialize=self.household_data.energy_storage_system['ini_soe']\n",
    "        )  # [kWh] initial state-of-energy at t=0\n",
    "        self.house_model.model.ess_eta_ch = Param(\n",
    "            within=NonNegativeReals, initialize=self.household_data.energy_storage_system['ch_eta']\n",
    "        )  # [/] charging efficiency\n",
    "        self.house_model.model.ess_eta_dch = Param(\n",
    "            within=NonNegativeReals, initialize=self.household_data.energy_storage_system['dch_eta']\n",
    "        )  # [/] discharging efficiency\n",
    "        # ESS variables\n",
    "        self.house_model.model.storage_charging_power = Var(\n",
    "            self.house_model.model.timesteps, within=NonPositiveReals, initialize=0\n",
    "        )  # ESS charging power\n",
    "        self.house_model.model.storage_discharging_power = Var(\n",
    "            self.house_model.model.timesteps, within=NonNegativeReals, initialize=0\n",
    "        )  # ESS dischargin power\n",
    "        self.house_model.model.storage_soe = Var(\n",
    "            self.house_model.model.timesteps, within=NonNegativeReals, initialize=0\n",
    "        )  # ESS state-of-energy\n",
    "        self.house_model.model.storage_power_export = Var(\n",
    "            self.house_model.model.timesteps, within=NonNegativeReals, initialize=0\n",
    "        )  # ESS power sold\n",
    "        self.house_model.model.storage_domestic_power_used = Var(\n",
    "            self.house_model.model.timesteps, within=NonNegativeReals, initialize=0\n",
    "        )  # ESS power used in the household\n",
    "        self.house_model.model.storage_binary = Var(\n",
    "            self.house_model.model.timesteps, within=Binary, initialize=0\n",
    "        )  # binary variable: 1-ESS charging, 0 otherwise\n",
    "\n",
    "        # ESS constraints start ------------------------------------------------------------------------------------------\n",
    "        # Bounds rule for charging power for ESS\n",
    "        def bounds_ess_ch_rule(model, t):\n",
    "            return -1 * model.storage_binary[t] * model.storage_charging_rate <= model.storage_charging_power[t]\n",
    "\n",
    "        self.house_model.model.ess_ch_bound = Constraint(self.house_model.model.timesteps, rule=bounds_ess_ch_rule)\n",
    "\n",
    "        # Bounds rule for discharging power for ESS\n",
    "        def bounds_ess_dis_rule(model, t):\n",
    "            return (1 - model.storage_binary[t]) * model.storage_discharging_rate >= model.storage_discharging_power[t]\n",
    "\n",
    "        self.house_model.model.ess_dis_bound = Constraint(self.house_model.model.timesteps, rule=bounds_ess_dis_rule)\n",
    "\n",
    "        def fix_ess_dis_at_end_rule(model):\n",
    "            return model.storage_discharging_power[model.timesteps.last()] == 0\n",
    "\n",
    "        self.house_model.model.fix_ess_dis_at_end = Constraint(rule=fix_ess_dis_at_end_rule)\n",
    "\n",
    "        # ESS minimum SOE\n",
    "        def bounds_ess_soe_rule_1(model, t):\n",
    "            return model.storage_minimum_soe <= model.storage_soe[t]\n",
    "\n",
    "        self.house_model.model.ess_soe_bound_1 = Constraint(self.house_model.model.timesteps,\n",
    "                                                            rule=bounds_ess_soe_rule_1)\n",
    "\n",
    "        # ESS maximum SOE\n",
    "        def bounds_ess_soe_rule_2(model, t):\n",
    "            return model.storage_soe[t] <= model.storage_maximum_soe\n",
    "\n",
    "        self.house_model.model.ess_soe_bound_2 = Constraint(self.house_model.model.timesteps,\n",
    "                                                            rule=bounds_ess_soe_rule_2)\n",
    "\n",
    "        # ESS SOE update\n",
    "        def ess_soe_balance_rule(model, t):\n",
    "            return (model.storage_soe[t] == model.storage_soe[model.timesteps.prev(t)]\n",
    "                    + (-1 * model.storage_charging_power[model.timesteps.prev(t)]\n",
    "                       * model.ess_eta_ch - model.storage_discharging_power[model.timesteps.prev(t)]) * model.delta_t)\n",
    "\n",
    "        self.house_model.model.ess_soe_balance = Constraint(self.house_model.model.timesteps_not0,\n",
    "                                                            rule=ess_soe_balance_rule)\n",
    "\n",
    "        def ess_soe_ini_balance_rule(model):\n",
    "            return model.storage_soe[model.timesteps.first()] == model.ess_soe_ini\n",
    "\n",
    "        self.house_model.model.ess_soe_ini_balance = Constraint(rule=ess_soe_ini_balance_rule)\n",
    "\n",
    "        # ESS balance for discharged power\n",
    "        def ess_balance_rule(model, t):\n",
    "            return (model.storage_domestic_power_used[t] + model.storage_power_export[t]\n",
    "                    == model.storage_discharging_power[t] * model.ess_eta_dch)\n",
    "\n",
    "        self.house_model.model.ess_balance = Constraint(self.house_model.model.timesteps, rule=ess_balance_rule)\n",
    "\n",
    "        # ESS SOE at t=T, end of simulation period\n",
    "        def ess_eod_rule(model):\n",
    "            return model.storage_soe[model.timesteps.last()] == model.ess_soe_ini\n",
    "\n",
    "        self.house_model.model.ess_eod = Constraint(rule=ess_eod_rule)\n",
    "\n",
    "        self.house_model.domestic_electric_power_balance_element_list.append(\n",
    "            self.house_model.model.storage_charging_power)\n",
    "        self.house_model.domestic_electric_power_balance_element_list.append(\n",
    "            self.house_model.model.storage_domestic_power_used)\n",
    "        self.house_model.electric_export_power_balance_element_list.append(self.house_model.model.storage_power_export)"
   ],
   "metadata": {
    "collapsed": false
   },
   "id": "76076c7b3503fbdb"
  },
  {
   "cell_type": "markdown",
   "source": [
    "The house heating system (HHS) acquires heat energy to raise and control the temperature in the home. The thermodynamic equation of a single zone house temperature control can be indicated as follows:\n",
    "\\begin{subequations}\n",
    "\\begin{flalign}\n",
    "   & T_t^{in} = \\left ( 1 - \\frac{\\Delta t }{R^{in}C^{in}}\\right) T_{t-1}^{in} + \\left( \\frac{T_{t-1}^{out}}{R^{in}C^{in}} + \\frac{h_{t-1}^{HHS}}{C^{in}} \\right) \\Delta t && \\forall{t \\in \\mathcal{T} - \\{t_0\\}}\\\\\n",
    "   & T_t^{in} = T_{ini}^{in} &&  if \\ {t_0}\\\\\n",
    "   & T^{in,max} - \\epsilon^{in} \\leq T_t^{in} \\leq T^{in,max} + \\epsilon^{in} && \\forall{t \\in \\mathcal{T}}\n",
    "\\end{flalign}\n",
    "\\end{subequations}"
   ],
   "metadata": {
    "collapsed": false
   },
   "id": "8b0271d6acb5c626"
  },
  {
   "cell_type": "code",
   "outputs": [],
   "source": [
    "class HouseThermalSystem(AppModel):\n",
    "    app_type = \"house_thermal_system\"\n",
    "\n",
    "    def __init__(self, household_data: HouseholdData, house_model: HouseModel):\n",
    "        super().__init__(household_data, house_model)\n",
    "\n",
    "        self.house_model.model.house_thermal_system_resistance = Param(\n",
    "            within=NonNegativeReals, initialize=self.household_data.house_thermal_system['resistance']\n",
    "        )\n",
    "        self.house_model.model.house_thermal_system_capacitance = Param(\n",
    "            within=NonNegativeReals, initialize=self.household_data.house_thermal_system['capacitance']\n",
    "        )\n",
    "        self.house_model.model.house_thermal_system_ini_temp = Param(\n",
    "            within=NonNegativeReals, initialize=self.household_data.house_thermal_system['temp_ini']\n",
    "        )\n",
    "        self.house_model.model.house_thermal_system_band_temp = Param(\n",
    "            within=NonNegativeReals, initialize=self.household_data.house_thermal_system['band_temp']\n",
    "        )\n",
    "        self.house_model.model.house_thermal_system_max_temp = Param(\n",
    "            within=NonNegativeReals, initialize=self.household_data.house_thermal_system['temp_max_sp']\n",
    "        )\n",
    "        self.house_model.model.house_thermal_system_min_temp = Param(\n",
    "            within=NonNegativeReals, initialize=self.household_data.house_thermal_system['temp_min_sp']\n",
    "        )\n",
    "        self.house_model.model.outdoor_temperature = Param(\n",
    "            self.house_model.model.timesteps, within=Reals, initialize=self.household_data.outdoor_temperature\n",
    "        )\n",
    "\n",
    "        # Variables:\n",
    "        self.house_model.model.house_temperature = Var(\n",
    "            self.house_model.model.timesteps, within=NonNegativeReals, initialize=0\n",
    "        )\n",
    "        self.house_model.model.house_thermal_system_heating = Var(\n",
    "            self.house_model.model.timesteps, within=NonPositiveReals, initialize=0\n",
    "        )\n",
    "        self.house_model.model.house_heating_binary = Var(\n",
    "            self.house_model.model.timesteps, within=Binary, initialize=0\n",
    "        )\n",
    "        # Constraints:\n",
    "        def house_temp_change_rule(model, t):\n",
    "            return (\n",
    "                    model.house_temperature[t] == model.house_temperature[model.timesteps.prev(t)] *\n",
    "                    (1 - model.delta_t / (\n",
    "                                model.house_thermal_system_resistance * model.house_thermal_system_capacitance))\n",
    "                    + (\n",
    "                            model.outdoor_temperature[model.timesteps.prev(t)]\n",
    "                            / (model.house_thermal_system_resistance * model.house_thermal_system_capacitance)\n",
    "                            + (\n",
    "                                    -1.0 * model.house_thermal_system_heating[model.timesteps.prev(t)]\n",
    "                                # + model.house_thermal_system_cooling[model.timesteps.prev(t)]\n",
    "                            ) / model.house_thermal_system_capacitance\n",
    "                    ) * model.delta_t\n",
    "            )\n",
    "\n",
    "        self.house_model.model.house_temp_change = Constraint(\n",
    "            self.house_model.model.timesteps_not0, rule=house_temp_change_rule\n",
    "        )\n",
    "\n",
    "        # Temperature change at t=0\n",
    "        def house_temp_change_ini_rule(model):\n",
    "            return model.house_temperature[model.timesteps.first()] == model.house_temperature[model.timesteps.last()]\n",
    "\n",
    "        self.house_model.model.house_ini_change = Constraint(rule=house_temp_change_ini_rule)\n",
    "\n",
    "        # minimum temperature bound\n",
    "        def house_min_temp_rule(model, t):\n",
    "            return model.house_temperature[t] >= model.house_thermal_system_min_temp  # - model.house_heating_system_band_temp\n",
    "\n",
    "        self.house_model.model.house_min_temp = Constraint(\n",
    "            self.house_model.model.timesteps, rule=house_min_temp_rule)\n",
    "\n",
    "        # maximum temperature bound\n",
    "        def house_max_temp_rule(model, t):\n",
    "            return model.house_temperature[t] <= 22  # - model.house_heating_system_band_temp\n",
    "\n",
    "        self.house_model.model.house_max_temp_eq = Constraint(\n",
    "            self.house_model.model.timesteps, rule=house_max_temp_rule)\n",
    "\n",
    "        self.house_model.domestic_heating_power_balance_element_list.append(\n",
    "            self.house_model.model.house_thermal_system_heating\n",
    "        )"
   ],
   "metadata": {
    "collapsed": false
   },
   "id": "d645d3fe16d4380d"
  },
  {
   "cell_type": "markdown",
   "source": [
    "The home appliances such as washing machines and dishwashers can be considered TSEL because, based on the optimal HEMS scheduling, their operation can be shifted in time to provide maximum flexibility.\n",
    "    \n",
    "\\begin{subequations} \n",
    "\\begin{flalign}\n",
    "& p_{d,t}^{TS} = \\sum \\limits_{p \\in \\mathcal{P}} u_{d,p,t}^{ph} p_{d,p}^{ph} && \\forall{d \\in \\mathcal{D}, t \\in \\mathcal{T}}\\\\\n",
    "& \\sum \\limits_{p \\in \\mathcal{P}} u_{d,p,t}^{ph} \\leq 1 && \\forall{d \\in \\mathcal{D}, t \\in \\mathcal{T}}\\\\\n",
    "& y_{d,p,t}^{ph} = z_{d,p,(t+T_{d,p}^{dur})}^{ph} && \\forall{d \\in \\mathcal{D}, p \\in \\mathcal{P}, t \\in \\mathcal{T}}\\\\\n",
    "& y_{d,p,t}^{ph} - z_{d,p,t}^{ph} = u_{d,p,t}^{ph} - u_{d,p,t-1}^{ph} &&  \\forall{{d \\in \\mathcal{D}, p \\in \\mathcal{P} t \\in \\mathcal{T}-\\{t_0\\}}} \\\\\n",
    "& z_{d,p,t}^{ph} = y_{d,p+1,t}^{ph} &&  \\forall{ {d \\in \\mathcal{D}, p \\in \\mathcal{P} - \\{p_n\\} , t \\in \\mathcal{T} }}\\\\\n",
    "& \\sum \\limits_{t \\in \\mathcal{T}} y_{d,p,t}^{ph} = N_m && \\forall{d \\in \\mathcal{D}, p \\in \\mathcal{P}} \\\\\n",
    "\\end{flalign}\n",
    "\\end{subequations}\n"
   ],
   "metadata": {
    "collapsed": false
   },
   "id": "247e5035bb78dcd5"
  },
  {
   "cell_type": "code",
   "outputs": [],
   "source": [
    "\n",
    "class TimeShiftableElectricLoad(AppModel):\n",
    "    app_type = \"time_shiftable_load\"\n",
    "\n",
    "    def __init__(self, household_data: HouseholdData, house_model: HouseModel):\n",
    "        super().__init__(household_data, house_model)\n",
    "\n",
    "        # ph_list = ['ph' + str(p) for p in range(1, len(input_param['drye_p']) + 1)]   # list for set of phases for the appliances operation\n",
    "        self.house_model.model.tsl_phases = Set(\n",
    "            ordered=True, initialize=self.household_data.time_shiftable_load.index.drop(['operating']))\n",
    "        self.house_model.model.tsl_phase_power_consumption = Param(\n",
    "            self.house_model.model.tsl_phases, within=NonPositiveReals,\n",
    "            initialize=-1 * self.household_data.time_shiftable_load.loc[self.house_model.model.tsl_phases, 'power'])   # parameter for the power demand per operational phase\n",
    "        # Variables\n",
    "        self.house_model.model.tsl_operation_phase_status = Var(\n",
    "            self.house_model.model.timesteps, self.house_model.model.tsl_phases, within=Binary, initialize=0)  # phase p in duration\n",
    "        self.house_model.model.tsl_starting_phase_status = Var(\n",
    "            self.house_model.model.timesteps, self.house_model.model.tsl_phases, within=Binary, initialize=0)  # phase p start\n",
    "        self.house_model.model.tsl_ending_phase_status = Var(\n",
    "            self.house_model.model.timesteps, self.house_model.model.tsl_phases, within=Binary, initialize=0)  # phase p end\n",
    "        self.house_model.model.tsl_power_consumption = Var(\n",
    "            self.house_model.model.timesteps,  within=NonPositiveReals, initialize=0)\n",
    "\n",
    "        # Power demand depending on current phase\n",
    "        def ts_power_phase_rule(model, t):\n",
    "            return (\n",
    "                    model.tsl_power_consumption[t] ==\n",
    "                    sum(\n",
    "                        (model.tsl_phase_power_consumption[ph] * model.tsl_operation_phase_status[t, ph])\n",
    "                        for ph in model.tsl_phases\n",
    "                    )\n",
    "            )\n",
    "\n",
    "        self.house_model.model.ts_power_phase = Constraint(\n",
    "            self.house_model.model.timesteps,  rule=ts_power_phase_rule)\n",
    "\n",
    "        # One operating phase active per time\n",
    "        def ts_phase_per_time_rule(model, t):\n",
    "            return sum(model.tsl_operation_phase_status[t, ph] for ph in model.tsl_phases) <= 1\n",
    "\n",
    "        self.house_model.model.ts_power_per_time = Constraint(\n",
    "            self.house_model.model.timesteps,  rule=ts_phase_per_time_rule)\n",
    "\n",
    "        # Each phase lasts one time interval, so it ends in the next interval.\n",
    "        # ToDo this part is incorrect if each phase lasts more than 1 time interval.\n",
    "        def ts_start_finish_rule(model, t, ph):\n",
    "            return model.tsl_starting_phase_status[model.timesteps.prev(t), ph] == model.tsl_ending_phase_status[t, ph]\n",
    "\n",
    "        self.house_model.model.ts_start_finish = Constraint(\n",
    "            self.house_model.model.timesteps_not0, self.house_model.model.tsl_phases, rule=ts_start_finish_rule)\n",
    "\n",
    "        # Change of phase duration status = change in start and end status\n",
    "        def ts_start_end_phase_rule(model, t, ph):\n",
    "            return (\n",
    "                    model.tsl_starting_phase_status[t, ph] - model.tsl_ending_phase_status[t, ph] ==\n",
    "                    model.tsl_operation_phase_status[t, ph]\n",
    "                    - model.tsl_operation_phase_status[model.timesteps.prev(t), ph]\n",
    "            )\n",
    "\n",
    "        self.house_model.model.ts_start_end_phase = Constraint(\n",
    "            self.house_model.model.timesteps_not0, self.house_model.model.tsl_phases, rule=ts_start_end_phase_rule)\n",
    "\n",
    "        # End of one phase = start of the next one\n",
    "        def ts_next_phase_rule(model, t, ph):\n",
    "            return model.tsl_ending_phase_status[t, model.tsl_phases.prev(ph)] == model.tsl_starting_phase_status[t, ph]\n",
    "\n",
    "        self.house_model.model.ts_next_phase = Constraint(\n",
    "            self.house_model.model.timesteps, self.house_model.model.tsl_phases - {'phase1'}, rule=ts_next_phase_rule)\n",
    "\n",
    "        # Number of times that device can operate during a day\n",
    "        def ts_phase_activation_rule(model, ph):\n",
    "            return sum(model.tsl_starting_phase_status[t, ph] for t in model.timesteps) == 1\n",
    "\n",
    "        self.house_model.model.ts_phase_activation = Constraint(\n",
    "            self.house_model.model.tsl_phases, rule=ts_phase_activation_rule)\n",
    "\n",
    "        # Todo This part is unnecessary\n",
    "        # No interruption in the operation, one phase after another is on\n",
    "        def ts_phase_sequence_rule(model, t, ph):\n",
    "            return (\n",
    "                    model.tsl_operation_phase_status[model.timesteps.prev(t),model.tsl_phases.prev(ph)] ==\n",
    "                    model.tsl_operation_phase_status[t, ph]\n",
    "            )\n",
    "\n",
    "        self.house_model.model.ts_phase_sequence = Constraint(\n",
    "            self.house_model.model.timesteps_not0,\n",
    "            self.house_model.model.tsl_phases - {'phase1'},\n",
    "            rule=ts_phase_sequence_rule)\n",
    "\n",
    "        def ts_operation_off_at_the_end_of_day_rule(model, ph):\n",
    "            return model.tsl_operation_phase_status[model.timesteps.last(), ph] == 0\n",
    "\n",
    "        self.house_model.model.ts_operation_off_at_the_end_of_day = Constraint(\n",
    "            self.house_model.model.tsl_phases, rule=ts_operation_off_at_the_end_of_day_rule)\n",
    "\n",
    "        def ts_operation_off_at_the_beginning_of_day_rule(model, ph):\n",
    "            return model.tsl_operation_phase_status[model.timesteps.first(), ph] == 0\n",
    "\n",
    "        self.house_model.model.ts_operation_off_at_the_beginning_of_day = Constraint(\n",
    "            self.house_model.model.tsl_phases, rule=ts_operation_off_at_the_beginning_of_day_rule)\n",
    "\n",
    "        self.house_model.domestic_electric_power_balance_element_list.append(\n",
    "            self.house_model.model.tsl_power_consumption\n",
    "        )"
   ],
   "metadata": {
    "collapsed": false
   },
   "id": "b824aab5edf99959"
  }
 ],
 "metadata": {
  "kernelspec": {
   "display_name": "Python 3",
   "language": "python",
   "name": "python3"
  },
  "language_info": {
   "codemirror_mode": {
    "name": "ipython",
    "version": 2
   },
   "file_extension": ".py",
   "mimetype": "text/x-python",
   "name": "python",
   "nbconvert_exporter": "python",
   "pygments_lexer": "ipython2",
   "version": "2.7.6"
  }
 },
 "nbformat": 4,
 "nbformat_minor": 5
}
