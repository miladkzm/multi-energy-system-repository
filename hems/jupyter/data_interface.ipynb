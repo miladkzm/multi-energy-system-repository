{
 "cells": [
  {
   "cell_type": "markdown",
   "source": [
    "The data interface is used to import and convert all the data from CSV into a data object which can be fed to any other classes. Therefore, the data can easily be accessed."
   ],
   "metadata": {
    "collapsed": false
   },
   "id": "5d034f6639073cf9"
  },
  {
   "cell_type": "code",
   "outputs": [],
   "source": [
    "import copy\n",
    "import pandas as pd"
   ],
   "metadata": {
    "collapsed": false,
    "ExecuteTime": {
     "end_time": "2024-03-01T13:30:12.002179500Z",
     "start_time": "2024-03-01T13:30:10.411323700Z"
    }
   },
   "id": "81a314a7cdedeb46",
   "execution_count": 2
  },
  {
   "cell_type": "markdown",
   "source": [
    "Household data class"
   ],
   "metadata": {
    "collapsed": false
   },
   "id": "716e44eea16b3a19"
  },
  {
   "cell_type": "code",
   "outputs": [],
   "source": [
    "class HouseholdData(object):\n",
    "    # Attributes of data object:\n",
    "    delta_t: int\n",
    "    timesteps: pd.DatetimeIndex\n",
    "    timesteps_freq: pd.offsets.Minute\n",
    "    carrier_limitation: pd.DataFrame\n",
    "    solar_irradiance: pd.DataFrame\n",
    "    wind_speed: pd.DataFrame\n",
    "    electricity_price: pd.DataFrame\n",
    "    gas_price: pd.DataFrame\n",
    "    heat_price: pd.DataFrame\n",
    "    hydrogen_price: pd.DataFrame\n",
    "    inflexible_electricity_demand: pd.DataFrame\n",
    "    app_data: pd.DataFrame\n",
    "    # flexible_electricity_demand: pd.DataFrame\n",
    "    inflexible_heat_demand: pd.DataFrame\n",
    "    inflexible_gas_demand: pd.DataFrame\n",
    "    inflexible_hydrogen_demand: pd.DataFrame\n",
    "    ambient_temperature: pd.DataFrame\n",
    "    pv_generator: pd.DataFrame\n",
    "    electric_vehicle: pd.DataFrame\n",
    "    energy_storage_system: pd.DataFrame\n",
    "    time_shiftable_load: pd.DataFrame\n",
    "    thermostatically_electric_appliance: pd.DataFrame\n",
    "    chp: pd.DataFrame\n",
    "    heat_pump: pd.DataFrame\n",
    "    house_heating_system: pd.DataFrame\n",
    "    gas_boiler: pd.DataFrame\n",
    "    electric_boiler: pd.DataFrame\n",
    "    solar_thermal: pd.DataFrame\n",
    "    thermal_storage_system: pd.DataFrame\n",
    "    wind_turbine: pd.DataFrame\n",
    "    electrolyzer: pd.DataFrame\n",
    "    hydrogen_storage_system: pd.DataFrame\n",
    "    fuel_cell: pd.DataFrame\n",
    "    outdoor_temperature: pd.Series\n",
    "    room_temperature_sp: int\n",
    "    domestic_hot_water_temperature_sp: int\n",
    "\n",
    "    def __init__(self, data_path: dict):\n",
    "        # Obtain electric grid data.\n",
    "        time_series_data_csv = pd.read_csv(data_path['time_series'], index_col=[0], skipinitialspace=True)\n",
    "        time_series_data_csv.index = pd.to_datetime(time_series_data_csv.index)\n",
    "        time_series_data_csv.index.freq = '15T'\n",
    "        appliance_data = pd.read_csv(data_path['appliance_data'], index_col=[0, 1], skipinitialspace=True)\n",
    "        self.app_data = appliance_data\n",
    "        heat_pump_data = pd.read_csv(data_path['heat_pump_data'], index_col=[0], skipinitialspace=True)\n",
    "        heat_pump_data.index = pd.to_datetime(heat_pump_data.index).tz_localize(None)\n",
    "        heat_pump_data = heat_pump_data.resample('15T').asfreq()\n",
    "        heat_pump_data.drop(heat_pump_data.index[-1], inplace=True)\n",
    "        time_series_data_csv.index = heat_pump_data.index\n",
    "        self.outdoor_temperature = heat_pump_data['T_od']\n",
    "        self.room_temperature_sp = heat_pump_data['T_room_sp']\n",
    "        self.domestic_hot_water_temperature_sp = 55\n",
    "        self.solar_irradiance = time_series_data_csv['solar_irradiance']\n",
    "        self.wind_speed = time_series_data_csv['wind_speed']\n",
    "        self.electricity_price = time_series_data_csv['electricity_price']\n",
    "        self.gas_price = time_series_data_csv['gas_price']\n",
    "        self.heat_price = time_series_data_csv['heat_price']\n",
    "        self.hydrogen_price = time_series_data_csv['hydrogen_price']\n",
    "        # self.flexible_electricity_demand = time_series_data_csv['flex_elec_demand']\n",
    "        self.inflexible_electricity_demand = time_series_data_csv['inflex_elec_demand']\n",
    "        self.inflexible_heat_demand = time_series_data_csv['inflex_heat_demand']\n",
    "        self.inflexible_gas_demand = time_series_data_csv['inflex_gas_demand']\n",
    "        self.inflexible_hydrogen_demand = time_series_data_csv['inflex_hydrogen_demand']\n",
    "        self.ambient_temperature = time_series_data_csv['ambient_temperature']\n",
    "        self.pv_generator = appliance_data.loc['pv_generator']['value']\n",
    "        self.electric_vehicle = appliance_data.loc['electric_vehicle_charger']['value']\n",
    "        self.energy_storage_system = appliance_data.loc['energy_storage_system']['value']\n",
    "        self.time_shiftable_load = appliance_data.loc['time_shiftable_load'][['value', 'power', 'duration']]\n",
    "        # self.thermostatically_electric_appliance = appliance_data.loc['air_conditioner']['value']\n",
    "        # self.chp = appliance_data.loc['chp']['value']\n",
    "        self.heat_pump = appliance_data.loc['heat_pump']['value']\n",
    "        self.house_thermal_system = appliance_data.loc['house_thermal_system']['value']\n",
    "        self.gas_boiler = appliance_data.loc['gas_boiler']['value']\n",
    "        self.electric_boiler = appliance_data.loc['electric_boiler']['value']\n",
    "        self.solar_thermal = appliance_data.loc['solar_thermal']['value']\n",
    "        self.thermal_storage_system = appliance_data.loc['thermal_storage_system']['value']\n",
    "        # self.wind_turbine = appliance_data.loc['wind_turbine']['value']\n",
    "        self.electrolyzer = appliance_data.loc['electrolyzer']['value']\n",
    "        self.hydrogen_storage_system = appliance_data.loc['hydrogen_storage_system']['value']\n",
    "        self.fuel_cell = appliance_data.loc['fuel_cell']['value']\n",
    "        self.carrier_limitation = appliance_data.loc['carrier_limitation']['value']\n",
    "        self.timesteps = time_series_data_csv.index\n",
    "        self.timesteps_freq = self.timesteps.freq\n",
    "        self.delta_t = self.timesteps_freq / pd.Timedelta('1h')"
   ],
   "metadata": {
    "collapsed": false,
    "ExecuteTime": {
     "end_time": "2024-03-01T13:30:12.046184900Z",
     "start_time": "2024-03-01T13:30:12.028183300Z"
    }
   },
   "id": "e179888728db038e",
   "execution_count": 4
  }
 ],
 "metadata": {
  "kernelspec": {
   "display_name": "Python 3",
   "language": "python",
   "name": "python3"
  },
  "language_info": {
   "codemirror_mode": {
    "name": "ipython",
    "version": 2
   },
   "file_extension": ".py",
   "mimetype": "text/x-python",
   "name": "python",
   "nbconvert_exporter": "python",
   "pygments_lexer": "ipython2",
   "version": "2.7.6"
  }
 },
 "nbformat": 4,
 "nbformat_minor": 5
}
